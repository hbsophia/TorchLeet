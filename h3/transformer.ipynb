{
  "cells": [
    {
      "cell_type": "markdown",
      "metadata": {
        "id": "UZy1zELZTMgE"
      },
      "source": [
        "## Problem: Write a Transformer\n",
        "\n",
        "### Problem Statement\n",
        "Implement a **Transformer model** in PyTorch by completing the required sections. The model should consist of an embedding layer, a Transformer encoder, and an output layer for sequence processing and prediction.\n",
        "\n",
        "### Requirements\n",
        "1. **Define the Transformer Model Architecture**:\n",
        "   - **Embedding Layer**:\n",
        "     - Implement a layer to transform input data into a higher-dimensional space.\n",
        "     - Use a `torch.nn.Linear` or `torch.nn.Embedding` layer to create embeddings from the input.\n",
        "   - **Transformer Encoder**:\n",
        "     - Use `torch.nn.TransformerEncoder` or `torch.nn.Transformer` to process sequences with attention.\n",
        "     - Configure parameters such as the number of attention heads and encoder layers.\n",
        "   - **Output Layer**:\n",
        "     - Add a fully connected (linear) layer to reduce the transformer's sequence output into the desired output dimension.\n",
        "\n",
        "2. **Implement the Forward Method**:\n",
        "   - Map the input to the higher-dimensional space using the embedding layer.\n",
        "   - Pass the transformed input through the Transformer encoder.\n",
        "   - Use the output layer to convert the encoded sequence into predictions.\n",
        "\n",
        "### Constraints\n",
        "- Handle input padding correctly for variable-length sequences.\n",
        "- Ensure compatibility with batch processing by correctly shaping input and output tensors.\n"
      ]
    },
    {
      "cell_type": "code",
      "execution_count": 8,
      "metadata": {
        "id": "CmMJogZfTMgG"
      },
      "outputs": [],
      "source": [
        "import torch\n",
        "import torch.nn as nn\n",
        "import torch.optim as optim\n",
        "from dataclasses import dataclass\n",
        "import math\n",
        "import torch.nn.functional as F"
      ]
    },
    {
      "cell_type": "code",
      "source": [
        "\n",
        "@dataclass\n",
        "class GPTConfig:\n",
        "    vocab_size: int\n",
        "    max_seq_len: int = 256\n",
        "    n_layers: int = 6\n",
        "    n_heads: int = 8\n",
        "    embed_dim: int = 512      # d_model\n",
        "    d_ff: int = 2048        # for SwiGLU consider ~(8/3)*emb_dim\n",
        "    dropout: float = 0.1\n",
        "    bias: bool = False\n",
        "    tie_weights: bool = True\n",
        "    use_classifier: bool = False\n",
        "    num_classes: int = 2\n"
      ],
      "metadata": {
        "id": "FkOrPNsamLvQ"
      },
      "execution_count": 15,
      "outputs": []
    },
    {
      "cell_type": "code",
      "execution_count": 16,
      "metadata": {
        "id": "LZEpzn-CTMgH"
      },
      "outputs": [],
      "source": [
        "# multi head attention\n",
        "class MultiHeadAttention(nn.Module):\n",
        "    def __init__(self, config):\n",
        "\n",
        "\n",
        "      self.q = nn.Linear(config.embed_dim, config.embed_dim)\n",
        "      self.k = nn.Linear(config.embed_dim, config.embed_dim)\n",
        "      self.v = nn.Linear(config.embed_dim, config.embed_dim)\n",
        "      self.output = nn.Linear(config.embed_dim, config.embed_dim)\n",
        "\n",
        "      self.n_head = config.n_heads\n",
        "\n",
        "      self.head_dim = config.embed_dim // config.n_heads\n",
        "\n",
        "      self.embed_dim = config.embed_dim\n",
        "\n",
        "      self.scalar = 1.0/math.sqrt(config.head_dim)\n",
        "\n",
        "      mask = torch.tri(torch.ones(self.embed_dim, self.embed_dim))\n",
        "      self.register_buff(\"casual_mask\", mask.view(1, 1, self.embed_dim, self.embed_dim), persistent=False)\n",
        "\n",
        "    def forward(self, x):\n",
        "      B, seq_len, d_model = x.shape()\n",
        "\n",
        "      q = self.q(x)\n",
        "      k = self.k(x)\n",
        "      v = self.v(x)\n",
        "\n",
        "      q = q.view(B, seq_len, self.n_head,self.head_dim).transpose(1,2)\n",
        "      k = k.view(B, seq_len, self.n_head,self.head_dim).transpose(1,2)\n",
        "      v = v.view(B, seq_len, self.n_head,self.head_dim).transpose(1,2)\n",
        "\n",
        "\n",
        "      att = (q @ k.transpose(-1, -2))*self.scalar\n",
        "\n",
        "      mask = self.casual_mask[:,:, :seq_len,:seq_len]\n",
        "\n",
        "      att = att.masked_fill(~mask, float(\"-inf\"))\n",
        "\n",
        "      att = F.softmax(att, dim=-1)\n",
        "\n",
        "      y = att@v\n",
        "      y = y.transpose(1,2).contingous().view(B, seq_len, self.embed_dim)\n",
        "      y = self.output(y)\n",
        "      y = self.droput(y)\n",
        "\n",
        "      return y"
      ]
    },
    {
      "cell_type": "code",
      "execution_count": 17,
      "metadata": {
        "id": "iMHVbgYATMgH"
      },
      "outputs": [],
      "source": [
        "class KVCache:\n",
        "  def __init__(self):\n",
        "    self.k_cache = None\n",
        "    self.v_cache = None\n",
        "\n",
        "  def update(self, new_k, new_v):\n",
        "\n",
        "    if self.k_cache is None:\n",
        "      self.k_cache = new_k\n",
        "      self.v_cache = new_v\n",
        "    else:\n",
        "      self.k_cache = torch.cat([self.k_cache, new_k], dim=2)\n",
        "      self.v_cache = torch.cat([self.v_cache, new_v], dim=2)\n",
        "    return self.k_cache, self.v_cache\n",
        "\n",
        "\n",
        "  def clear(self):\n",
        "    self.k_cache = None\n",
        "    self.v_cache = None\n",
        "\n",
        "  def getSize(self):\n",
        "    if self.k_cache:\n",
        "      return self.k_cache.size(2)\n",
        "    else:\n",
        "      return 0\n",
        "\n",
        "  def clap_to_max_len(self, max_len):\n",
        "    if self.k_cache is None:\n",
        "      return\n",
        "    if self.k_cache.size(2) > max_len:\n",
        "      self.k_cache = self.k_cache[:, :, -max_len:, :]\n",
        "      self.v_cache = self.v_cache[:, :, -max_len:, :]\n",
        "      return\n"
      ]
    },
    {
      "cell_type": "code",
      "source": [
        "class MLP:\n",
        "  def __init__(self, config):\n",
        "    super().__init__()\n",
        "    self.c = nn.Linear(config.embed_dim, 4*config.embed_dim)\n",
        "    self.gelu = nn.GELU()\n",
        "    self.c2 = nn.Linear(4*config.embed_dim, config.embed_dim)\n",
        "    self.dropout = nn.Dropout()\n",
        "\n",
        "  def forward(self, x):\n",
        "    x = self.c(x)\n",
        "    x = self.gelu(x)\n",
        "    x = self.c2(x)\n",
        "    x = self.dropout(x)\n",
        "\n",
        "    return x\n"
      ],
      "metadata": {
        "id": "zYioc-sNwrs2"
      },
      "execution_count": 18,
      "outputs": []
    },
    {
      "cell_type": "markdown",
      "source": [],
      "metadata": {
        "id": "VhheMrJX1Ah5"
      }
    },
    {
      "cell_type": "code",
      "source": [
        "class BLOCK:\n",
        "  def __init__(self, config):\n",
        "    super().__init__()\n",
        "    self.att = MultiHeadAttention(config)\n",
        "    self.n1 = nn.RMSNorm(config.emb_dim)\n",
        "    self.n2 = nn.RMSNorm(config.emb_dim)\n",
        "    self.mlp = MLP(config)\n",
        "\n",
        "  def forward(self, x):\n",
        "    x = x + self.att(self.n1(x))\n",
        "    x = x + self.mlp(self.n2(x))\n",
        "\n",
        "    return x\n"
      ],
      "metadata": {
        "id": "DHe4v8trwrzd"
      },
      "execution_count": 19,
      "outputs": []
    },
    {
      "cell_type": "code",
      "source": [],
      "metadata": {
        "id": "bGu6W8ZFwr2o"
      },
      "execution_count": null,
      "outputs": []
    },
    {
      "cell_type": "code",
      "source": [],
      "metadata": {
        "id": "6ncayHRBwr5m"
      },
      "execution_count": null,
      "outputs": []
    },
    {
      "cell_type": "code",
      "source": [],
      "metadata": {
        "id": "3nQtQk1Dwr8t"
      },
      "execution_count": null,
      "outputs": []
    },
    {
      "cell_type": "code",
      "execution_count": null,
      "metadata": {
        "id": "PhHb5aWSTMgH",
        "outputId": "7d82b024-9145-4165-e995-f369b2a1be57"
      },
      "outputs": [
        {
          "name": "stdout",
          "output_type": "stream",
          "text": [
            "Epoch [100/1000], Loss: 1.5771\n",
            "Epoch [200/1000], Loss: 0.8907\n",
            "Epoch [300/1000], Loss: 0.6074\n",
            "Epoch [400/1000], Loss: 0.3587\n",
            "Epoch [500/1000], Loss: 0.1986\n",
            "Epoch [600/1000], Loss: 0.1157\n",
            "Epoch [700/1000], Loss: 0.0762\n",
            "Epoch [800/1000], Loss: 0.0629\n",
            "Epoch [900/1000], Loss: 0.0575\n",
            "Epoch [1000/1000], Loss: 0.0379\n"
          ]
        }
      ],
      "source": [
        "# Training loop\n",
        "epochs = 1000\n",
        "for epoch in range(epochs):\n",
        "    # Forward pass\n",
        "    predictions = model(X)\n",
        "    loss = criterion(predictions, y)\n",
        "\n",
        "    # Backward pass and optimization\n",
        "    optimizer.zero_grad()\n",
        "    loss.backward()\n",
        "    optimizer.step()\n",
        "\n",
        "    # Log progress every 100 epochs\n",
        "    if (epoch + 1) % 100 == 0:\n",
        "        print(f\"Epoch [{epoch + 1}/{epochs}], Loss: {loss.item():.4f}\")"
      ]
    },
    {
      "cell_type": "code",
      "execution_count": null,
      "metadata": {
        "id": "ZhzwFsbLTMgH",
        "outputId": "e9881791-1cc7-429d-d9f7-4dd8a0f16df6"
      },
      "outputs": [
        {
          "name": "stdout",
          "output_type": "stream",
          "text": [
            "Predictions for [[[0.6648573279380798], [0.6041934490203857], [0.3187063932418823], [0.9813531041145325], [0.09837877750396729], [0.3223891258239746], [0.3124500513076782], [0.36122316122055054], [0.8705818057060242], [0.4751177430152893]], [[0.569571316242218], [0.05407053232192993], [0.16180634498596191], [0.8140731453895569], [0.34717607498168945], [0.6788632273674011], [0.11463749408721924], [0.21608346700668335], [0.7405895590782166], [0.8521053194999695]]]: [[5.141801834106445], [5.020108699798584]]\n"
          ]
        }
      ],
      "source": [
        "# Testing on new data\n",
        "X_test = torch.rand(2, seq_length, input_dim)\n",
        "with torch.no_grad():\n",
        "    predictions = model(X_test)\n",
        "    print(f\"Predictions for {X_test.tolist()}: {predictions.tolist()}\")"
      ]
    }
  ],
  "metadata": {
    "kernelspec": {
      "display_name": ".venv",
      "language": "python",
      "name": "python3"
    },
    "language_info": {
      "codemirror_mode": {
        "name": "ipython",
        "version": 3
      },
      "file_extension": ".py",
      "mimetype": "text/x-python",
      "name": "python",
      "nbconvert_exporter": "python",
      "pygments_lexer": "ipython3",
      "version": "3.10.4"
    },
    "colab": {
      "provenance": [],
      "toc_visible": true
    }
  },
  "nbformat": 4,
  "nbformat_minor": 0
}